{
 "cells": [
  {
   "cell_type": "markdown",
   "id": "5351d630-7498-4870-b72e-d092fdbe69e5",
   "metadata": {},
   "source": [
    "# Modern Portfolio Theory"
   ]
  },
  {
   "cell_type": "markdown",
   "id": "06cca39e-d2ae-4e54-a08a-1dd766e46df7",
   "metadata": {},
   "source": [
    "- Modern Portfolio Theory (MPT) is a Nobel Prize-winning economic theory. \n",
    "- It explains how risk-averse investors can construct portfolios to optimize or maximize expected return based on a given level of market risk. \n",
    "- <a href = \"https://en.wikipedia.org/wiki/Harry_Markowitz\">Harry Markowitz</a> pioneered this theory in his paper <a href = \"https://onlinelibrary.wiley.com/doi/full/10.1111/j.1540-6261.1952.tb01525.x\">Portfolio Selection</a> , which was published in the Journal of Finance in 1952. He was later awarded a Nobel Prize for his work on modern portfolio theory.\n",
    "- Modern Portfolio Theory suggests diversification of all your securities and asset classes and not putting all your eggs in one basket. It emphasises the importance of portfolios, diversification, risk and the connections among different kinds of securities.\n",
    "\n"
   ]
  },
  {
   "cell_type": "code",
   "execution_count": 1,
   "id": "3f606f32-9f0c-4e51-af0d-a82643e4b46f",
   "metadata": {},
   "outputs": [
    {
     "name": "stdout",
     "output_type": "stream",
     "text": [
      "Defaulting to user installation because normal site-packages is not writeable\n",
      "Requirement already satisfied: yfinance in /home/eshan/.local/lib/python3.12/site-packages (0.2.55)\n",
      "Requirement already satisfied: pandas in /usr/lib/python3/dist-packages (2.1.4+dfsg)\n",
      "Requirement already satisfied: numpy in /usr/lib/python3/dist-packages (1.26.4)\n",
      "Requirement already satisfied: matplotlib in /usr/lib/python3/dist-packages (3.6.3)\n",
      "Requirement already satisfied: requests in /usr/lib/python3/dist-packages (2.31.0)\n",
      "Requirement already satisfied: beautifulsoup4 in /home/eshan/.local/lib/python3.12/site-packages (4.12.3)\n",
      "Requirement already satisfied: multitasking>=0.0.7 in /home/eshan/.local/lib/python3.12/site-packages (from yfinance) (0.0.11)\n",
      "Requirement already satisfied: platformdirs>=2.0.0 in /home/eshan/.local/lib/python3.12/site-packages (from yfinance) (4.2.2)\n",
      "Requirement already satisfied: pytz>=2022.5 in /usr/lib/python3/dist-packages (from yfinance) (2024.1)\n",
      "Requirement already satisfied: frozendict>=2.3.4 in /home/eshan/.local/lib/python3.12/site-packages (from yfinance) (2.4.6)\n",
      "Requirement already satisfied: peewee>=3.16.2 in /home/eshan/.local/lib/python3.12/site-packages (from yfinance) (3.17.9)\n",
      "Requirement already satisfied: soupsieve>1.2 in /home/eshan/.local/lib/python3.12/site-packages (from beautifulsoup4) (2.6)\n",
      "Note: you may need to restart the kernel to use updated packages.\n"
     ]
    }
   ],
   "source": [
    "pip install yfinance pandas numpy matplotlib requests beautifulsoup4 --break-system-packages"
   ]
  },
  {
   "cell_type": "code",
   "execution_count": 2,
   "id": "19c7fa05-7749-4b6d-bc15-fde8c69cfadc",
   "metadata": {},
   "outputs": [
    {
     "name": "stdout",
     "output_type": "stream",
     "text": [
      "YF.download() has changed argument auto_adjust default to True\n"
     ]
    },
    {
     "name": "stderr",
     "output_type": "stream",
     "text": [
      "[*********************100%***********************]  1 of 1 completed\n"
     ]
    }
   ],
   "source": [
    "import yfinance as yf\n",
    "import requests\n",
    "import pandas as pd \n",
    "\n",
    "nifty50 = yf.download(\"^NSEI\", start=\"2019-01-01\", end=\"2025-03-31\")['Close']"
   ]
  },
  {
   "cell_type": "code",
   "execution_count": 3,
   "id": "ab3503cb-841c-4a54-910a-7b9875a8546b",
   "metadata": {},
   "outputs": [
    {
     "data": {
      "text/html": [
       "<div>\n",
       "<style scoped>\n",
       "    .dataframe tbody tr th:only-of-type {\n",
       "        vertical-align: middle;\n",
       "    }\n",
       "\n",
       "    .dataframe tbody tr th {\n",
       "        vertical-align: top;\n",
       "    }\n",
       "\n",
       "    .dataframe thead th {\n",
       "        text-align: right;\n",
       "    }\n",
       "</style>\n",
       "<table border=\"1\" class=\"dataframe\">\n",
       "  <thead>\n",
       "    <tr style=\"text-align: right;\">\n",
       "      <th>Ticker</th>\n",
       "      <th>Nifty100</th>\n",
       "    </tr>\n",
       "    <tr>\n",
       "      <th>Date</th>\n",
       "      <th></th>\n",
       "    </tr>\n",
       "  </thead>\n",
       "  <tbody>\n",
       "    <tr>\n",
       "      <th>2019-01-02</th>\n",
       "      <td>10792.500000</td>\n",
       "    </tr>\n",
       "    <tr>\n",
       "      <th>2019-01-03</th>\n",
       "      <td>10672.250000</td>\n",
       "    </tr>\n",
       "    <tr>\n",
       "      <th>2019-01-04</th>\n",
       "      <td>10727.349609</td>\n",
       "    </tr>\n",
       "    <tr>\n",
       "      <th>2019-01-07</th>\n",
       "      <td>10771.799805</td>\n",
       "    </tr>\n",
       "    <tr>\n",
       "      <th>2019-01-08</th>\n",
       "      <td>10802.150391</td>\n",
       "    </tr>\n",
       "  </tbody>\n",
       "</table>\n",
       "</div>"
      ],
      "text/plain": [
       "Ticker          Nifty100\n",
       "Date                    \n",
       "2019-01-02  10792.500000\n",
       "2019-01-03  10672.250000\n",
       "2019-01-04  10727.349609\n",
       "2019-01-07  10771.799805\n",
       "2019-01-08  10802.150391"
      ]
     },
     "execution_count": 3,
     "metadata": {},
     "output_type": "execute_result"
    }
   ],
   "source": [
    "nifty50 = nifty50.rename(columns = {'^NSEI': 'Nifty100'})\n",
    "nifty50.head()"
   ]
  },
  {
   "cell_type": "code",
   "execution_count": 4,
   "id": "95af7784-1607-413e-b9a8-9395d5246c10",
   "metadata": {},
   "outputs": [],
   "source": [
    "def fetch_mutual_fund_nav(api_url, name):\n",
    "    \"\"\"\n",
    "    Fetches mutual fund NAV data from mfapi.in and returns a single-column\n",
    "    DataFrame with 'date' as index and the NAV under the provided name.\n",
    "    \"\"\"\n",
    "    try:\n",
    "        response = requests.get(api_url)\n",
    "        response.raise_for_status()\n",
    "        data = response.json().get(\"data\", [])\n",
    "\n",
    "        # Load into DataFrame\n",
    "        df = pd.DataFrame(data)[[\"date\", \"nav\"]]\n",
    "\n",
    "        # Convert types\n",
    "        df[\"date\"] = pd.to_datetime(df[\"date\"], format=\"%d-%m-%Y\")\n",
    "        df[\"nav\"] = df[\"nav\"].astype(float)\n",
    "\n",
    "        # Filter date range\n",
    "        mask = (df[\"date\"] >= \"2019-01-01\") & (df[\"date\"] <= \"2025-04-09\")  # today\n",
    "        df = df.loc[mask]\n",
    "\n",
    "        # Final cleanup: set index and rename column\n",
    "        df.set_index(\"date\", inplace=True)\n",
    "        df.rename(columns={\"nav\": name}, inplace=True)\n",
    "\n",
    "        return df\n",
    "\n",
    "    except Exception as e:\n",
    "        print(f\"Error: {e}\")\n",
    "        return pd.DataFrame(columns=[name])\n"
   ]
  },
  {
   "cell_type": "code",
   "execution_count": 5,
   "id": "3abc6f55-ac6f-40dc-a9f1-295bebf40d53",
   "metadata": {},
   "outputs": [
    {
     "ename": "TypeError",
     "evalue": "fetch_mutual_fund_nav() missing 1 required positional argument: 'name'",
     "output_type": "error",
     "traceback": [
      "\u001b[0;31m---------------------------------------------------------------------------\u001b[0m",
      "\u001b[0;31mTypeError\u001b[0m                                 Traceback (most recent call last)",
      "Cell \u001b[0;32mIn[5], line 1\u001b[0m\n\u001b[0;32m----> 1\u001b[0m parag \u001b[38;5;241m=\u001b[39m \u001b[43mfetch_mutual_fund_nav\u001b[49m\u001b[43m(\u001b[49m\u001b[38;5;124;43m\"\u001b[39;49m\u001b[38;5;124;43mhttps://api.mfapi.in/mf/122639\u001b[39;49m\u001b[38;5;124;43m\"\u001b[39;49m\u001b[43m)\u001b[49m\n\u001b[1;32m      2\u001b[0m hdfc \u001b[38;5;241m=\u001b[39m fetch_mutual_fund_nav(\u001b[38;5;124m\"\u001b[39m\u001b[38;5;124mhttps://api.mfapi.in/mf/118955\u001b[39m\u001b[38;5;124m\"\u001b[39m)\n\u001b[1;32m      3\u001b[0m icici \u001b[38;5;241m=\u001b[39m fetch_mutual_fund_nav(\u001b[38;5;124m\"\u001b[39m\u001b[38;5;124mhttps://api.mfapi.in/mf/120596\u001b[39m\u001b[38;5;124m\"\u001b[39m)\n",
      "\u001b[0;31mTypeError\u001b[0m: fetch_mutual_fund_nav() missing 1 required positional argument: 'name'"
     ]
    }
   ],
   "source": [
    "parag = fetch_mutual_fund_nav(\"https://api.mfapi.in/mf/122639\", \"parag\")\n",
    "hdfc = fetch_mutual_fund_nav(\"https://api.mfapi.in/mf/118955\", \"hdfc\")\n",
    "icici = fetch_mutual_fund_nav(\"https://api.mfapi.in/mf/120596\", \"icici\")\n",
    "motilal = fetch_mutual_fund_nav(\"https://api.mfapi.in/mf/147704\", \"motilal\")\n",
    "parag = fetch_mutual_fund_nav(\"https://api.mfapi.in/mf/122639\", \"\")"
   ]
  },
  {
   "cell_type": "code",
   "execution_count": null,
   "id": "d11d260d-89ef-4d5a-99d8-5485daca20f1",
   "metadata": {},
   "outputs": [],
   "source": [
    "dates = pd.date_range(start=\"2019-01-01\", end=\"2025-04-10\", freq=\"M\")\n",
    "monthly_fd_returns = [(1 + 0.06) ** (1/12) - 1] * len(dates)\n",
    "fd_df = pd.DataFrame(data=monthly_fd_returns, index=dates, columns=[\"FD_Return\"])\n",
    "fd_df.head()"
   ]
  },
  {
   "cell_type": "code",
   "execution_count": null,
   "id": "ff75376e-1d60-4529-9b9d-a0f980cd9ec1",
   "metadata": {},
   "outputs": [],
   "source": [
    "import yfinance as yf\n",
    "\n",
    "# Download Close price and rename the Series\n",
    "btc = yf.download(\"BTC-USD\", start=\"2019-01-01\", end=\"2025-03-31\")[\"Close\"]\n",
    "btc.name = \"Bitcoin\"\n",
    "\n",
    "eth = yf.download(\"ETH-USD\", start=\"2019-01-01\", end=\"2025-03-31\")[\"Close\"]\n",
    "eth.name = \"Ethereum\"\n",
    "\n",
    "sol = yf.download(\"SOL-USD\", start=\"2021-01-01\", end=\"2025-03-31\")[\"Close\"]\n",
    "sol.name = \"Solana\"\n",
    "\n",
    "# Combine into one DataFrame\n",
    "crypto_df = pd.concat([btc, eth, sol], axis=1)\n",
    "print(crypto_df.head())\n"
   ]
  },
  {
   "cell_type": "code",
   "execution_count": null,
   "id": "4ff423e3-964c-4eba-9a29-69c53c5681e8",
   "metadata": {},
   "outputs": [],
   "source": [
    "\n",
    "# Download daily gold closing prices\n",
    "gold_df = yf.download(\"GC=F\", start=\"2019-01-01\", end=\"2025-03-31\")[[\"Close\"]]\n",
    "gold_df = gold_df.rename(columns={\"Close\": \"Gold\"})\n",
    "\n",
    "# Reset index to have 'date' as a column\n",
    "gold_df = gold_df.reset_index()\n",
    "\n",
    "# Optional: format date\n",
    "gold_df[\"Date\"] = gold_df[\"Date\"].dt.date\n",
    "\n",
    "# Final DataFrame\n",
    "print(gold_df.head())\n"
   ]
  },
  {
   "cell_type": "code",
   "execution_count": null,
   "id": "2adbd557-ea81-407a-a5e5-414ff81fce38",
   "metadata": {},
   "outputs": [],
   "source": [
    "gold_df = gold_df.reset_index(drop=True)\n",
    "gold_df.head()"
   ]
  },
  {
   "cell_type": "code",
   "execution_count": null,
   "id": "5d87580e-a407-40e7-b83b-18bcb8efb83e",
   "metadata": {},
   "outputs": [],
   "source": [
    "gold_df.columns = gold_df.columns.get_level_values(-1)  # Keep only bottom level column names\n",
    "gold_df.head()"
   ]
  },
  {
   "cell_type": "code",
   "execution_count": null,
   "id": "ffe0a4c8-54b8-45a3-87eb-cede06fcb9a9",
   "metadata": {},
   "outputs": [],
   "source": [
    "combined = pd.concat([\n",
    "    nifty50,\n",
    "    parag,\n",
    "    hdfc,\n",
    "    icici,\n",
    "    motilal,\n",
    "    btc,\n",
    "    eth,\n",
    "    sol, \n",
    "    gold_df\n",
    "], axis=1)\n"
   ]
  },
  {
   "cell_type": "code",
   "execution_count": null,
   "id": "1ee49a9d-95b8-4092-8db2-eb5b41393c02",
   "metadata": {},
   "outputs": [],
   "source": [
    "combined.head(20)"
   ]
  },
  {
   "cell_type": "code",
   "execution_count": null,
   "id": "d7101a5d-cde4-4226-aac2-602500bf905e",
   "metadata": {},
   "outputs": [],
   "source": [
    "print(parag.columns)"
   ]
  }
 ],
 "metadata": {
  "kernelspec": {
   "display_name": "Python 3 (ipykernel)",
   "language": "python",
   "name": "python3"
  },
  "language_info": {
   "codemirror_mode": {
    "name": "ipython",
    "version": 3
   },
   "file_extension": ".py",
   "mimetype": "text/x-python",
   "name": "python",
   "nbconvert_exporter": "python",
   "pygments_lexer": "ipython3",
   "version": "3.12.3"
  }
 },
 "nbformat": 4,
 "nbformat_minor": 5
}
