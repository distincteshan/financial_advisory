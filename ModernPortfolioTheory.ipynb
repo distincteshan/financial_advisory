{
 "cells": [
  {
   "cell_type": "markdown",
   "id": "5351d630-7498-4870-b72e-d092fdbe69e5",
   "metadata": {},
   "source": [
    "# Modern Portfolio Theory"
   ]
  },
  {
   "cell_type": "markdown",
   "id": "06cca39e-d2ae-4e54-a08a-1dd766e46df7",
   "metadata": {},
   "source": [
    "- Modern Portfolio Theory (MPT) is a Nobel Prize-winning economic theory. \n",
    "- It explains how risk-averse investors can construct portfolios to optimize or maximize expected return based on a given level of market risk. \n",
    "- <a href = \"https://en.wikipedia.org/wiki/Harry_Markowitz\">Harry Markowitz</a> pioneered this theory in his paper <a href = \"https://onlinelibrary.wiley.com/doi/full/10.1111/j.1540-6261.1952.tb01525.x\">Portfolio Selection</a> , which was published in the Journal of Finance in 1952. He was later awarded a Nobel Prize for his work on modern portfolio theory.\n",
    "- Modern Portfolio Theory suggests diversification of all your securities and asset classes and not putting all your eggs in one basket. It emphasises the importance of portfolios, diversification, risk and the connections among different kinds of securities.\n",
    "\n"
   ]
  },
  {
   "cell_type": "code",
   "execution_count": 2,
   "id": "3f606f32-9f0c-4e51-af0d-a82643e4b46f",
   "metadata": {},
   "outputs": [
    {
     "name": "stdout",
     "output_type": "stream",
     "text": [
      "Defaulting to user installation because normal site-packages is not writeable\n",
      "Requirement already satisfied: yfinance in /home/eshan/.local/lib/python3.12/site-packages (0.2.55)\n",
      "Requirement already satisfied: pandas in /usr/lib/python3/dist-packages (2.1.4+dfsg)\n",
      "Requirement already satisfied: numpy in /usr/lib/python3/dist-packages (1.26.4)\n",
      "Requirement already satisfied: matplotlib in /usr/lib/python3/dist-packages (3.6.3)\n",
      "Requirement already satisfied: requests in /usr/lib/python3/dist-packages (2.31.0)\n",
      "Requirement already satisfied: beautifulsoup4 in /home/eshan/.local/lib/python3.12/site-packages (4.12.3)\n",
      "Requirement already satisfied: multitasking>=0.0.7 in /home/eshan/.local/lib/python3.12/site-packages (from yfinance) (0.0.11)\n",
      "Requirement already satisfied: platformdirs>=2.0.0 in /home/eshan/.local/lib/python3.12/site-packages (from yfinance) (4.2.2)\n",
      "Requirement already satisfied: pytz>=2022.5 in /usr/lib/python3/dist-packages (from yfinance) (2024.1)\n",
      "Requirement already satisfied: frozendict>=2.3.4 in /home/eshan/.local/lib/python3.12/site-packages (from yfinance) (2.4.6)\n",
      "Requirement already satisfied: peewee>=3.16.2 in /home/eshan/.local/lib/python3.12/site-packages (from yfinance) (3.17.9)\n",
      "Requirement already satisfied: soupsieve>1.2 in /home/eshan/.local/lib/python3.12/site-packages (from beautifulsoup4) (2.6)\n",
      "Note: you may need to restart the kernel to use updated packages.\n"
     ]
    }
   ],
   "source": [
    "pip install yfinance pandas numpy matplotlib requests beautifulsoup4 --break-system-packages"
   ]
  },
  {
   "cell_type": "code",
   "execution_count": 4,
   "id": "19c7fa05-7749-4b6d-bc15-fde8c69cfadc",
   "metadata": {},
   "outputs": [
    {
     "name": "stderr",
     "output_type": "stream",
     "text": [
      "[*********************100%***********************]  1 of 1 completed\n"
     ]
    }
   ],
   "source": [
    "import yfinance as yf\n",
    "\n",
    "nifty50 = yf.download(\"^NSEI\", start=\"2019-01-01\", end=\"2025-03-31\")['Close']"
   ]
  },
  {
   "cell_type": "code",
   "execution_count": 9,
   "id": "ab3503cb-841c-4a54-910a-7b9875a8546b",
   "metadata": {},
   "outputs": [
    {
     "data": {
      "text/html": [
       "<div>\n",
       "<style scoped>\n",
       "    .dataframe tbody tr th:only-of-type {\n",
       "        vertical-align: middle;\n",
       "    }\n",
       "\n",
       "    .dataframe tbody tr th {\n",
       "        vertical-align: top;\n",
       "    }\n",
       "\n",
       "    .dataframe thead th {\n",
       "        text-align: right;\n",
       "    }\n",
       "</style>\n",
       "<table border=\"1\" class=\"dataframe\">\n",
       "  <thead>\n",
       "    <tr style=\"text-align: right;\">\n",
       "      <th>Ticker</th>\n",
       "      <th>Nifty100</th>\n",
       "    </tr>\n",
       "    <tr>\n",
       "      <th>Date</th>\n",
       "      <th></th>\n",
       "    </tr>\n",
       "  </thead>\n",
       "  <tbody>\n",
       "    <tr>\n",
       "      <th>2019-01-02</th>\n",
       "      <td>10792.500000</td>\n",
       "    </tr>\n",
       "    <tr>\n",
       "      <th>2019-01-03</th>\n",
       "      <td>10672.250000</td>\n",
       "    </tr>\n",
       "    <tr>\n",
       "      <th>2019-01-04</th>\n",
       "      <td>10727.349609</td>\n",
       "    </tr>\n",
       "    <tr>\n",
       "      <th>2019-01-07</th>\n",
       "      <td>10771.799805</td>\n",
       "    </tr>\n",
       "    <tr>\n",
       "      <th>2019-01-08</th>\n",
       "      <td>10802.150391</td>\n",
       "    </tr>\n",
       "  </tbody>\n",
       "</table>\n",
       "</div>"
      ],
      "text/plain": [
       "Ticker          Nifty100\n",
       "Date                    \n",
       "2019-01-02  10792.500000\n",
       "2019-01-03  10672.250000\n",
       "2019-01-04  10727.349609\n",
       "2019-01-07  10771.799805\n",
       "2019-01-08  10802.150391"
      ]
     },
     "execution_count": 9,
     "metadata": {},
     "output_type": "execute_result"
    }
   ],
   "source": [
    "nifty50 = nifty50.rename(columns = {'^NSEI': 'Nifty100'})\n",
    "nifty50.head()"
   ]
  },
  {
   "cell_type": "code",
   "execution_count": 13,
   "id": "95af7784-1607-413e-b9a8-9395d5246c10",
   "metadata": {},
   "outputs": [],
   "source": [
    "import requests\n",
    "import pandas as pd\n",
    "\n",
    "def fetch_mutual_fund_nav(api_url):\n",
    "    \"\"\"\n",
    "    Fetches mutual fund NAV data from the given mfapi.in URL, filters between\n",
    "    2019-01-01 and 2025-03-31, and returns a DataFrame with only 'date' and 'nav'.\n",
    "\n",
    "    Parameters:\n",
    "    - api_url (str): API endpoint of the mutual fund.\n",
    "\n",
    "    Returns:\n",
    "    - pd.DataFrame: Filtered DataFrame with 'date' and 'nav' columns.\n",
    "    \"\"\"\n",
    "    try:\n",
    "        response = requests.get(api_url)\n",
    "        response.raise_for_status()\n",
    "        data = response.json().get(\"data\", [])\n",
    "\n",
    "        # Load into DataFrame\n",
    "        df = pd.DataFrame(data)[[\"date\", \"nav\"]]\n",
    "\n",
    "        # Convert and filter\n",
    "        df[\"date\"] = pd.to_datetime(df[\"date\"], format=\"%d-%m-%Y\")\n",
    "        df[\"nav\"] = df[\"nav\"].astype(float)\n",
    "\n",
    "        # Filter date range\n",
    "        mask = (df[\"date\"] >= \"2019-01-01\") & (df[\"date\"] <= \"2025-03-31\")\n",
    "        df = df.loc[mask]\n",
    "\n",
    "        return df.sort_values(\"date\").reset_index(drop=True)\n",
    "\n",
    "    except Exception as e:\n",
    "        print(f\"Error: {e}\")\n",
    "        return pd.DataFrame(columns=[\"date\", \"nav\"])\n",
    "\n",
    "# Example usage\n",
    "url = \"https://api.mfapi.in/mf/122639\"\n",
    "df = fetch_mutual_fund_nav(url)\n"
   ]
  },
  {
   "cell_type": "code",
   "execution_count": 14,
   "id": "3abc6f55-ac6f-40dc-a9f1-295bebf40d53",
   "metadata": {},
   "outputs": [
    {
     "data": {
      "text/html": [
       "<div>\n",
       "<style scoped>\n",
       "    .dataframe tbody tr th:only-of-type {\n",
       "        vertical-align: middle;\n",
       "    }\n",
       "\n",
       "    .dataframe tbody tr th {\n",
       "        vertical-align: top;\n",
       "    }\n",
       "\n",
       "    .dataframe thead th {\n",
       "        text-align: right;\n",
       "    }\n",
       "</style>\n",
       "<table border=\"1\" class=\"dataframe\">\n",
       "  <thead>\n",
       "    <tr style=\"text-align: right;\">\n",
       "      <th></th>\n",
       "      <th>date</th>\n",
       "      <th>nav</th>\n",
       "    </tr>\n",
       "  </thead>\n",
       "  <tbody>\n",
       "    <tr>\n",
       "      <th>0</th>\n",
       "      <td>2019-01-01</td>\n",
       "      <td>24.1411</td>\n",
       "    </tr>\n",
       "    <tr>\n",
       "      <th>1</th>\n",
       "      <td>2019-01-02</td>\n",
       "      <td>24.0361</td>\n",
       "    </tr>\n",
       "    <tr>\n",
       "      <th>2</th>\n",
       "      <td>2019-01-03</td>\n",
       "      <td>24.0002</td>\n",
       "    </tr>\n",
       "    <tr>\n",
       "      <th>3</th>\n",
       "      <td>2019-01-04</td>\n",
       "      <td>23.7828</td>\n",
       "    </tr>\n",
       "    <tr>\n",
       "      <th>4</th>\n",
       "      <td>2019-01-07</td>\n",
       "      <td>23.9844</td>\n",
       "    </tr>\n",
       "  </tbody>\n",
       "</table>\n",
       "</div>"
      ],
      "text/plain": [
       "        date      nav\n",
       "0 2019-01-01  24.1411\n",
       "1 2019-01-02  24.0361\n",
       "2 2019-01-03  24.0002\n",
       "3 2019-01-04  23.7828\n",
       "4 2019-01-07  23.9844"
      ]
     },
     "execution_count": 14,
     "metadata": {},
     "output_type": "execute_result"
    }
   ],
   "source": [
    "df.head()"
   ]
  }
 ],
 "metadata": {
  "kernelspec": {
   "display_name": "Python 3 (ipykernel)",
   "language": "python",
   "name": "python3"
  },
  "language_info": {
   "codemirror_mode": {
    "name": "ipython",
    "version": 3
   },
   "file_extension": ".py",
   "mimetype": "text/x-python",
   "name": "python",
   "nbconvert_exporter": "python",
   "pygments_lexer": "ipython3",
   "version": "3.12.3"
  }
 },
 "nbformat": 4,
 "nbformat_minor": 5
}
