{
 "cells": [
  {
   "cell_type": "markdown",
   "id": "5351d630-7498-4870-b72e-d092fdbe69e5",
   "metadata": {},
   "source": [
    "# Modern Portfolio Theory"
   ]
  },
  {
   "cell_type": "markdown",
   "id": "06cca39e-d2ae-4e54-a08a-1dd766e46df7",
   "metadata": {},
   "source": [
    "- Modern Portfolio Theory (MPT) is a Nobel Prize-winning economic theory. \n",
    "- It explains how risk-averse investors can construct portfolios to optimize or maximize expected return based on a given level of market risk. \n",
    "- <a href = \"https://en.wikipedia.org/wiki/Harry_Markowitz\">Harry Markowitz</a> pioneered this theory in his paper <a href = \"https://onlinelibrary.wiley.com/doi/full/10.1111/j.1540-6261.1952.tb01525.x\">Portfolio Selection</a> , which was published in the Journal of Finance in 1952. He was later awarded a Nobel Prize for his work on modern portfolio theory.\n",
    "- Modern Portfolio Theory suggests diversification of all your securities and asset classes and not putting all your eggs in one basket. It emphasises the importance of portfolios, diversification, risk and the connections among different kinds of securities.\n",
    "\n"
   ]
  },
  {
   "cell_type": "code",
   "execution_count": 17,
   "id": "3f606f32-9f0c-4e51-af0d-a82643e4b46f",
   "metadata": {},
   "outputs": [
    {
     "name": "stdout",
     "output_type": "stream",
     "text": [
      "Defaulting to user installation because normal site-packages is not writeable\n",
      "Requirement already satisfied: pandas in /usr/lib/python3/dist-packages (2.1.4+dfsg)\n",
      "Defaulting to user installation because normal site-packages is not writeable\n",
      "Requirement already satisfied: numpy in /usr/lib/python3/dist-packages (1.26.4)\n",
      "Defaulting to user installation because normal site-packages is not writeable\n",
      "Requirement already satisfied: matplotlib in /usr/lib/python3/dist-packages (3.6.3)\n",
      "Defaulting to user installation because normal site-packages is not writeable\n",
      "Requirement already satisfied: seaborn in /usr/lib/python3/dist-packages (0.13.2)\n",
      "Requirement already satisfied: numpy!=1.24.0,>=1.20 in /usr/lib/python3/dist-packages (from seaborn) (1.26.4)\n",
      "Requirement already satisfied: pandas>=1.2 in /usr/lib/python3/dist-packages (from seaborn) (2.1.4+dfsg)\n",
      "Requirement already satisfied: matplotlib!=3.6.1,>=3.4 in /usr/lib/python3/dist-packages (from seaborn) (3.6.3)\n",
      "Defaulting to user installation because normal site-packages is not writeable\n",
      "Requirement already satisfied: scipy in /usr/lib/python3/dist-packages (1.11.4)\n",
      "Requirement already satisfied: numpy<1.28.0,>=1.21.6 in /usr/lib/python3/dist-packages (from scipy) (1.26.4)\n",
      "Defaulting to user installation because normal site-packages is not writeable\n",
      "Requirement already satisfied: nsepy in /home/eshan/.local/lib/python3.12/site-packages (0.8)\n",
      "Requirement already satisfied: beautifulsoup4 in /home/eshan/.local/lib/python3.12/site-packages (from nsepy) (4.12.3)\n",
      "Requirement already satisfied: click in /usr/lib/python3/dist-packages (from nsepy) (8.1.6)\n",
      "Requirement already satisfied: lxml in /usr/lib/python3/dist-packages (from nsepy) (5.2.1)\n",
      "Requirement already satisfied: numpy in /usr/lib/python3/dist-packages (from nsepy) (1.26.4)\n",
      "Requirement already satisfied: pandas in /usr/lib/python3/dist-packages (from nsepy) (2.1.4+dfsg)\n",
      "Requirement already satisfied: requests in /usr/lib/python3/dist-packages (from nsepy) (2.31.0)\n",
      "Requirement already satisfied: six in /usr/lib/python3/dist-packages (from nsepy) (1.16.0)\n",
      "Requirement already satisfied: soupsieve>1.2 in /home/eshan/.local/lib/python3.12/site-packages (from beautifulsoup4->nsepy) (2.6)\n",
      "Defaulting to user installation because normal site-packages is not writeable\n",
      "Collecting yfinance\n",
      "  Using cached yfinance-0.2.55-py2.py3-none-any.whl.metadata (5.8 kB)\n",
      "Requirement already satisfied: pandas>=1.3.0 in /usr/lib/python3/dist-packages (from yfinance) (2.1.4+dfsg)\n",
      "Requirement already satisfied: numpy>=1.16.5 in /usr/lib/python3/dist-packages (from yfinance) (1.26.4)\n",
      "Requirement already satisfied: requests>=2.31 in /usr/lib/python3/dist-packages (from yfinance) (2.31.0)\n",
      "Collecting multitasking>=0.0.7 (from yfinance)\n",
      "  Using cached multitasking-0.0.11-py3-none-any.whl.metadata (5.5 kB)\n",
      "Requirement already satisfied: platformdirs>=2.0.0 in /home/eshan/.local/lib/python3.12/site-packages (from yfinance) (4.2.2)\n",
      "Requirement already satisfied: pytz>=2022.5 in /usr/lib/python3/dist-packages (from yfinance) (2024.1)\n",
      "Collecting frozendict>=2.3.4 (from yfinance)\n",
      "  Using cached frozendict-2.4.6-py312-none-any.whl.metadata (23 kB)\n",
      "Collecting peewee>=3.16.2 (from yfinance)\n",
      "  Using cached peewee-3.17.9-py3-none-any.whl\n",
      "Requirement already satisfied: beautifulsoup4>=4.11.1 in /home/eshan/.local/lib/python3.12/site-packages (from yfinance) (4.12.3)\n",
      "Requirement already satisfied: soupsieve>1.2 in /home/eshan/.local/lib/python3.12/site-packages (from beautifulsoup4>=4.11.1->yfinance) (2.6)\n",
      "Using cached yfinance-0.2.55-py2.py3-none-any.whl (109 kB)\n",
      "Using cached frozendict-2.4.6-py312-none-any.whl (16 kB)\n",
      "Using cached multitasking-0.0.11-py3-none-any.whl (8.5 kB)\n",
      "Installing collected packages: peewee, multitasking, frozendict, yfinance\n",
      "Successfully installed frozendict-2.4.6 multitasking-0.0.11 peewee-3.17.9 yfinance-0.2.55\n"
     ]
    }
   ],
   "source": [
    "# Installing and Importing the libraries\n",
    "\n",
    "!pip3 install pandas --break-system-packages\n",
    "!pip3 install numpy --break-system-packages\n",
    "!pip3 install matplotlib --break-system-packages\n",
    "!pip3 install seaborn --break-system-packages\n",
    "!pip3 install scipy --break-system-packages\n",
    "!pip3 install nsepy --break-system-packages\n",
    "!pip3 install yfinance --break-system-packages\n",
    "from datetime import date\n",
    "import pandas as pd\n",
    "import numpy as np\n",
    "import matplotlib.pyplot as plt\n",
    "import seaborn as sns\n",
    "from scipy.optimize import minimize\n",
    "from nsepy import * \n",
    "import yfinance as yf"
   ]
  },
  {
   "cell_type": "code",
   "execution_count": 19,
   "id": "19c7fa05-7749-4b6d-bc15-fde8c69cfadc",
   "metadata": {},
   "outputs": [],
   "source": [
    "Stocks = [\n",
    "    \"RELIANCE.NS\",     # Reliance Industries\n",
    "    \"TATACHEM.NS\",     # Tata Chemicals (instead of TATACONS)\n",
    "    \"HDFCBANK.NS\",     # HDFC Bank\n",
    "    \"ICICIBANK.NS\",    # ICICI Bank\n",
    "    \"INFY.NS\",         # Infosys\n",
    "    \"HINDUNILVR.NS\",   # Hindustan Unilever\n",
    "    \"AXISBANK.NS\",     # Axis Bank\n",
    "    \"SBIN.NS\",         # State Bank of India\n",
    "    \"BAJFINANCE.NS\",   # Bajaj Finance\n",
    "    \"KOTAKBANK.NS\",    # Kotak Mahindra Bank\n",
    "    \"MARUTI.NS\",       # Maruti Suzuki\n",
    "    \"ASIANPAINT.NS\",   # Asian Paints\n",
    "    \"SUNPHARMA.NS\",    # Sun Pharmaceutical\n",
    "    \"BHARTI.NS\",       # Bharti Airtel\n",
    "    \"WIPRO.NS\",        # Wipro\n",
    "    \"TITAN.NS\",        # Titan Company\n",
    "    \"HCLTECH.NS\"       # HCL Technologies\n",
    "]\n"
   ]
  },
  {
   "cell_type": "code",
   "execution_count": 24,
   "id": "95af7784-1607-413e-b9a8-9395d5246c10",
   "metadata": {},
   "outputs": [],
   "source": [
    "pf_data = pd.DataFrame()\n",
    "\n",
    "for a in Stocks:\n",
    "    data = get_history(symbol=a, start=date(2017,1,1), end=date(2021,7,9))\n",
    "    pf_data[a] = data['Close']"
   ]
  }
 ],
 "metadata": {
  "kernelspec": {
   "display_name": "Python 3 (ipykernel)",
   "language": "python",
   "name": "python3"
  },
  "language_info": {
   "codemirror_mode": {
    "name": "ipython",
    "version": 3
   },
   "file_extension": ".py",
   "mimetype": "text/x-python",
   "name": "python",
   "nbconvert_exporter": "python",
   "pygments_lexer": "ipython3",
   "version": "3.12.3"
  }
 },
 "nbformat": 4,
 "nbformat_minor": 5
}
